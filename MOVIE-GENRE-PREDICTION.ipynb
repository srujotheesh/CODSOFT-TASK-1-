{
 "cells": [
  {
   "cell_type": "code",
   "execution_count": 3,
   "id": "f13849bf",
   "metadata": {},
   "outputs": [],
   "source": [
    "# Load the encessary packages\n",
    "import numpy as np\n",
    "import pandas as pd\n",
    "import matplotlib.pyplot as plt\n",
    "import seaborn as sns\n",
    "from sklearn.model_selection import train_test_split\n",
    "from sklearn.feature_extraction.text import TfidfVectorizer\n",
    "from sklearn.naive_bayes import MultinomialNB\n",
    "from sklearn.metrics import classification_report"
   ]
  },
  {
   "cell_type": "code",
   "execution_count": null,
   "id": "b66b3264",
   "metadata": {},
   "outputs": [],
   "source": [
    "!pip install opendatasets"
   ]
  },
  {
   "cell_type": "code",
   "execution_count": 3,
   "id": "5717cb67",
   "metadata": {},
   "outputs": [
    {
     "name": "stdout",
     "output_type": "stream",
     "text": [
      "Please provide your Kaggle credentials to download this dataset. Learn more: http://bit.ly/kaggle-creds\n",
      "Your Kaggle username: sruthik21alr045\n",
      "Your Kaggle Key: ········\n",
      "Downloading genre-classification-dataset-imdb.zip to .\\genre-classification-dataset-imdb\n"
     ]
    },
    {
     "name": "stderr",
     "output_type": "stream",
     "text": [
      "100%|██████████████████████████████████████████████████████████████████████████████| 41.7M/41.7M [00:57<00:00, 758kB/s]\n"
     ]
    },
    {
     "name": "stdout",
     "output_type": "stream",
     "text": [
      "\n"
     ]
    }
   ],
   "source": [
    "# Loading the dataset\n",
    "import opendatasets as od\n",
    "od.download(\"https://www.kaggle.com/datasets/hijest/genre-classification-dataset-imdb\")"
   ]
  },
  {
   "cell_type": "code",
   "execution_count": 14,
   "id": "f7c6ff22",
   "metadata": {},
   "outputs": [
    {
     "name": "stdout",
     "output_type": "stream",
     "text": [
      "CSV file has been created: C:/Users/jothe/OneDrive/Desktop/Project/CODESOFT/genre-classification-dataset-imdb/Genre Classification Dataset\\test_data_solution.csv\n"
     ]
    }
   ],
   "source": [
    "import csv\n",
    "import os\n",
    "\n",
    "# Path to the folder containing text files\n",
    "folder_path = \"C:/Users/jothe/OneDrive/Desktop/Project/CODESOFT/genre-classification-dataset-imdb/Genre Classification Dataset\"\n",
    "\n",
    "# Get a list of all text files in the folder\n",
    "text_files = [file for file in os.listdir(folder_path) if file.endswith(\".txt\")]\n",
    "\n",
    "# Iterate through each text file\n",
    "for text_file in text_files:\n",
    "    with open(os.path.join(folder_path, text_file), \"r\", encoding=\"utf-8\") as file:\n",
    "        text_data = file.read()\n",
    "\n",
    "    # Parse the text data and organize it\n",
    "    data = []\n",
    "    for line in text_data.strip().split('\\n'):\n",
    "        parts = line.split(\" ::: \")\n",
    "        entry = {\n",
    "            \"ID\": parts[0].strip(),\n",
    "            \"Title\": parts[1].strip(),\n",
    "            \"Genre\": parts[2].strip(),\n",
    "            \"Description\": parts[3].strip()\n",
    "        }\n",
    "        data.append(entry)\n",
    "\n",
    "    # Write the organized data to a CSV file\n",
    "    csv_file_path = os.path.join(folder_path, f\"{os.path.splitext(text_file)[0]}.csv\")\n",
    "    fieldnames = [\"ID\", \"Title\",\"Genre\", \"Description\"]\n",
    "\n",
    "    with open(csv_file_path, 'w', newline='', encoding='utf-8') as csv_file:\n",
    "        writer = csv.DictWriter(csv_file, fieldnames=fieldnames)\n",
    "        writer.writeheader()\n",
    "        writer.writerows(data)\n",
    "\n",
    "    print(f\"CSV file has been created: {csv_file_path}\")\n"
   ]
  },
  {
   "cell_type": "code",
   "execution_count": 8,
   "id": "89fc507f",
   "metadata": {},
   "outputs": [
    {
     "data": {
      "text/html": [
       "<div>\n",
       "<style scoped>\n",
       "    .dataframe tbody tr th:only-of-type {\n",
       "        vertical-align: middle;\n",
       "    }\n",
       "\n",
       "    .dataframe tbody tr th {\n",
       "        vertical-align: top;\n",
       "    }\n",
       "\n",
       "    .dataframe thead th {\n",
       "        text-align: right;\n",
       "    }\n",
       "</style>\n",
       "<table border=\"1\" class=\"dataframe\">\n",
       "  <thead>\n",
       "    <tr style=\"text-align: right;\">\n",
       "      <th></th>\n",
       "      <th>ID</th>\n",
       "      <th>Title</th>\n",
       "      <th>Genre</th>\n",
       "      <th>Description</th>\n",
       "    </tr>\n",
       "  </thead>\n",
       "  <tbody>\n",
       "    <tr>\n",
       "      <th>0</th>\n",
       "      <td>1</td>\n",
       "      <td>Oscar et la dame rose (2009)</td>\n",
       "      <td>drama</td>\n",
       "      <td>Listening in to a conversation between his doc...</td>\n",
       "    </tr>\n",
       "    <tr>\n",
       "      <th>1</th>\n",
       "      <td>2</td>\n",
       "      <td>Cupid (1997)</td>\n",
       "      <td>thriller</td>\n",
       "      <td>A brother and sister with a past incestuous re...</td>\n",
       "    </tr>\n",
       "    <tr>\n",
       "      <th>2</th>\n",
       "      <td>3</td>\n",
       "      <td>Young, Wild and Wonderful (1980)</td>\n",
       "      <td>adult</td>\n",
       "      <td>As the bus empties the students for their fiel...</td>\n",
       "    </tr>\n",
       "    <tr>\n",
       "      <th>3</th>\n",
       "      <td>4</td>\n",
       "      <td>The Secret Sin (1915)</td>\n",
       "      <td>drama</td>\n",
       "      <td>To help their unemployed father make ends meet...</td>\n",
       "    </tr>\n",
       "    <tr>\n",
       "      <th>4</th>\n",
       "      <td>5</td>\n",
       "      <td>The Unrecovered (2007)</td>\n",
       "      <td>drama</td>\n",
       "      <td>The film's title refers not only to the un-rec...</td>\n",
       "    </tr>\n",
       "  </tbody>\n",
       "</table>\n",
       "</div>"
      ],
      "text/plain": [
       "   ID                             Title     Genre  \\\n",
       "0   1      Oscar et la dame rose (2009)     drama   \n",
       "1   2                      Cupid (1997)  thriller   \n",
       "2   3  Young, Wild and Wonderful (1980)     adult   \n",
       "3   4             The Secret Sin (1915)     drama   \n",
       "4   5            The Unrecovered (2007)     drama   \n",
       "\n",
       "                                         Description  \n",
       "0  Listening in to a conversation between his doc...  \n",
       "1  A brother and sister with a past incestuous re...  \n",
       "2  As the bus empties the students for their fiel...  \n",
       "3  To help their unemployed father make ends meet...  \n",
       "4  The film's title refers not only to the un-rec...  "
      ]
     },
     "execution_count": 8,
     "metadata": {},
     "output_type": "execute_result"
    }
   ],
   "source": [
    "movie=pd.read_csv(\"C:/Users/jothe/OneDrive/Desktop/Project/CODESOFT/genre-classification-dataset-imdb/Genre Classification Dataset/train_data.csv\")\n",
    "movie.head(5)"
   ]
  },
  {
   "cell_type": "code",
   "execution_count": 9,
   "id": "1bd5e22e",
   "metadata": {},
   "outputs": [],
   "source": [
    "tfidf_vectorizer = TfidfVectorizer(max_features=5000)\n",
    "X = tfidf_vectorizer.fit_transform(movie['Description']).toarray()\n",
    "\n",
    "# Prepare target variable\n",
    "y = movie['Genre']\n",
    "x_train,x_test,y_train,y_test=train_test_split(X,y,test_size=0.1,random_state=42)\n"
   ]
  },
  {
   "cell_type": "code",
   "execution_count": 24,
   "id": "b92fc58c",
   "metadata": {},
   "outputs": [
    {
     "name": "stdout",
     "output_type": "stream",
     "text": [
      "27\n"
     ]
    }
   ],
   "source": [
    "print(len(np.unique(y)))"
   ]
  },
  {
   "cell_type": "code",
   "execution_count": 15,
   "id": "7520e978",
   "metadata": {},
   "outputs": [
    {
     "data": {
      "text/plain": [
       "MultinomialNB()"
      ]
     },
     "execution_count": 15,
     "metadata": {},
     "output_type": "execute_result"
    }
   ],
   "source": [
    "nb = MultinomialNB()\n",
    "nb.fit(x_train,y_train)"
   ]
  },
  {
   "cell_type": "code",
   "execution_count": 18,
   "id": "6a925864",
   "metadata": {},
   "outputs": [
    {
     "name": "stdout",
     "output_type": "stream",
     "text": [
      "              precision    recall  f1-score   support\n",
      "\n",
      "      action       0.57      0.10      0.18       116\n",
      "       adult       0.67      0.03      0.06        59\n",
      "   adventure       0.33      0.01      0.03        73\n",
      "   animation       1.00      0.00      0.00        61\n",
      "   biography       1.00      0.00      0.00        27\n",
      "      comedy       0.51      0.41      0.45       753\n",
      "       crime       1.00      0.00      0.00        56\n",
      " documentary       0.57      0.89      0.69      1323\n",
      "       drama       0.45      0.84      0.58      1351\n",
      "      family       1.00      0.00      0.00        64\n",
      "     fantasy       1.00      0.00      0.00        37\n",
      "   game-show       1.00      0.00      0.00        18\n",
      "     history       1.00      0.00      0.00        24\n",
      "      horror       0.80      0.30      0.44       208\n",
      "       music       0.86      0.07      0.14        80\n",
      "     musical       1.00      0.00      0.00        21\n",
      "     mystery       1.00      0.00      0.00        28\n",
      "        news       1.00      0.00      0.00        18\n",
      "  reality-tv       1.00      0.00      0.00       121\n",
      "     romance       1.00      0.00      0.00        71\n",
      "      sci-fi       1.00      0.01      0.03        72\n",
      "       short       0.59      0.07      0.12       494\n",
      "       sport       0.86      0.13      0.22        47\n",
      "   talk-show       1.00      0.00      0.00        36\n",
      "    thriller       0.60      0.02      0.04       159\n",
      "         war       1.00      0.00      0.00        10\n",
      "     western       1.00      0.54      0.70        95\n",
      "\n",
      "    accuracy                           0.51      5422\n",
      "   macro avg       0.84      0.13      0.14      5422\n",
      "weighted avg       0.61      0.51      0.43      5422\n",
      "\n"
     ]
    }
   ],
   "source": [
    "y_pred = nb.predict(x_test)\n",
    "print(classification_report(y_test, y_pred, zero_division=1))"
   ]
  },
  {
   "cell_type": "code",
   "execution_count": 27,
   "id": "1f12ec57",
   "metadata": {},
   "outputs": [
    {
     "data": {
      "text/html": [
       "<div>\n",
       "<style scoped>\n",
       "    .dataframe tbody tr th:only-of-type {\n",
       "        vertical-align: middle;\n",
       "    }\n",
       "\n",
       "    .dataframe tbody tr th {\n",
       "        vertical-align: top;\n",
       "    }\n",
       "\n",
       "    .dataframe thead th {\n",
       "        text-align: right;\n",
       "    }\n",
       "</style>\n",
       "<table border=\"1\" class=\"dataframe\">\n",
       "  <thead>\n",
       "    <tr style=\"text-align: right;\">\n",
       "      <th></th>\n",
       "      <th>Actual</th>\n",
       "      <th>Predicted</th>\n",
       "    </tr>\n",
       "  </thead>\n",
       "  <tbody>\n",
       "    <tr>\n",
       "      <th>5089</th>\n",
       "      <td>comedy</td>\n",
       "      <td>drama</td>\n",
       "    </tr>\n",
       "    <tr>\n",
       "      <th>30323</th>\n",
       "      <td>short</td>\n",
       "      <td>drama</td>\n",
       "    </tr>\n",
       "    <tr>\n",
       "      <th>6415</th>\n",
       "      <td>comedy</td>\n",
       "      <td>documentary</td>\n",
       "    </tr>\n",
       "    <tr>\n",
       "      <th>20919</th>\n",
       "      <td>horror</td>\n",
       "      <td>horror</td>\n",
       "    </tr>\n",
       "    <tr>\n",
       "      <th>29549</th>\n",
       "      <td>music</td>\n",
       "      <td>music</td>\n",
       "    </tr>\n",
       "  </tbody>\n",
       "</table>\n",
       "</div>"
      ],
      "text/plain": [
       "       Actual    Predicted\n",
       "5089   comedy        drama\n",
       "30323   short        drama\n",
       "6415   comedy  documentary\n",
       "20919  horror       horror\n",
       "29549   music        music"
      ]
     },
     "execution_count": 27,
     "metadata": {},
     "output_type": "execute_result"
    }
   ],
   "source": [
    "result=pd.DataFrame({\"Actual\":y_test,'Predicted':y_pred})\n",
    "result.head(5)"
   ]
  },
  {
   "cell_type": "code",
   "execution_count": 10,
   "id": "2274b03d",
   "metadata": {},
   "outputs": [
    {
     "data": {
      "text/plain": [
       "LogisticRegression(max_iter=1000)"
      ]
     },
     "execution_count": 10,
     "metadata": {},
     "output_type": "execute_result"
    }
   ],
   "source": [
    "# applying in logistic Regression\n",
    "from sklearn.preprocessing import StandardScaler\n",
    "from sklearn.linear_model import LogisticRegression\n",
    "log = LogisticRegression(max_iter=1000)\n",
    "log.fit(x_train, y_train)"
   ]
  },
  {
   "cell_type": "code",
   "execution_count": 7,
   "id": "81fda6bd",
   "metadata": {},
   "outputs": [
    {
     "name": "stdout",
     "output_type": "stream",
     "text": [
      "              precision    recall  f1-score   support\n",
      "\n",
      "      action       0.52      0.36      0.43       116\n",
      "       adult       0.86      0.31      0.45        59\n",
      "   adventure       0.32      0.10      0.15        73\n",
      "   animation       0.60      0.05      0.09        61\n",
      "   biography       1.00      0.00      0.00        27\n",
      "      comedy       0.53      0.61      0.57       753\n",
      "       crime       0.00      0.00      0.00        56\n",
      " documentary       0.68      0.85      0.75      1323\n",
      "       drama       0.55      0.78      0.65      1351\n",
      "      family       0.33      0.08      0.13        64\n",
      "     fantasy       0.00      0.00      0.00        37\n",
      "   game-show       1.00      0.50      0.67        18\n",
      "     history       1.00      0.00      0.00        24\n",
      "      horror       0.64      0.57      0.60       208\n",
      "       music       0.63      0.42      0.51        80\n",
      "     musical       0.00      0.00      0.00        21\n",
      "     mystery       1.00      0.04      0.07        28\n",
      "        news       1.00      0.00      0.00        18\n",
      "  reality-tv       0.58      0.27      0.37       121\n",
      "     romance       0.50      0.04      0.08        71\n",
      "      sci-fi       0.63      0.24      0.34        72\n",
      "       short       0.50      0.34      0.40       494\n",
      "       sport       0.71      0.26      0.37        47\n",
      "   talk-show       0.35      0.17      0.23        36\n",
      "    thriller       0.49      0.15      0.23       159\n",
      "         war       1.00      0.00      0.00        10\n",
      "     western       0.91      0.72      0.80        95\n",
      "\n",
      "    accuracy                           0.59      5422\n",
      "   macro avg       0.60      0.25      0.29      5422\n",
      "weighted avg       0.58      0.59      0.55      5422\n",
      "\n"
     ]
    }
   ],
   "source": [
    "y_pred1= log.predict(x_test)\n",
    "print(classification_report(y_test, y_pred1, zero_division=1))"
   ]
  },
  {
   "cell_type": "code",
   "execution_count": 8,
   "id": "d5f94e03",
   "metadata": {},
   "outputs": [
    {
     "data": {
      "text/html": [
       "<div>\n",
       "<style scoped>\n",
       "    .dataframe tbody tr th:only-of-type {\n",
       "        vertical-align: middle;\n",
       "    }\n",
       "\n",
       "    .dataframe tbody tr th {\n",
       "        vertical-align: top;\n",
       "    }\n",
       "\n",
       "    .dataframe thead th {\n",
       "        text-align: right;\n",
       "    }\n",
       "</style>\n",
       "<table border=\"1\" class=\"dataframe\">\n",
       "  <thead>\n",
       "    <tr style=\"text-align: right;\">\n",
       "      <th></th>\n",
       "      <th>Actual</th>\n",
       "      <th>Predicted</th>\n",
       "    </tr>\n",
       "  </thead>\n",
       "  <tbody>\n",
       "    <tr>\n",
       "      <th>5089</th>\n",
       "      <td>comedy</td>\n",
       "      <td>comedy</td>\n",
       "    </tr>\n",
       "    <tr>\n",
       "      <th>30323</th>\n",
       "      <td>short</td>\n",
       "      <td>drama</td>\n",
       "    </tr>\n",
       "    <tr>\n",
       "      <th>6415</th>\n",
       "      <td>comedy</td>\n",
       "      <td>horror</td>\n",
       "    </tr>\n",
       "    <tr>\n",
       "      <th>20919</th>\n",
       "      <td>horror</td>\n",
       "      <td>horror</td>\n",
       "    </tr>\n",
       "    <tr>\n",
       "      <th>29549</th>\n",
       "      <td>music</td>\n",
       "      <td>music</td>\n",
       "    </tr>\n",
       "  </tbody>\n",
       "</table>\n",
       "</div>"
      ],
      "text/plain": [
       "       Actual Predicted\n",
       "5089   comedy    comedy\n",
       "30323   short     drama\n",
       "6415   comedy    horror\n",
       "20919  horror    horror\n",
       "29549   music     music"
      ]
     },
     "execution_count": 8,
     "metadata": {},
     "output_type": "execute_result"
    }
   ],
   "source": [
    "result1=pd.DataFrame({\"Actual\":y_test,'Predicted':y_pred1})\n",
    "result1.head(5)"
   ]
  },
  {
   "cell_type": "code",
   "execution_count": 6,
   "id": "6023c5e8",
   "metadata": {},
   "outputs": [],
   "source": [
    "tfidf_vectorizer = TfidfVectorizer(max_features=5000)\n",
    "test_inp=tfidf_vectorizer.fit_transform(movie_test['Description']).toarray()"
   ]
  },
  {
   "cell_type": "code",
   "execution_count": 19,
   "id": "8a3ebd55",
   "metadata": {},
   "outputs": [
    {
     "data": {
      "text/html": [
       "<div>\n",
       "<style scoped>\n",
       "    .dataframe tbody tr th:only-of-type {\n",
       "        vertical-align: middle;\n",
       "    }\n",
       "\n",
       "    .dataframe tbody tr th {\n",
       "        vertical-align: top;\n",
       "    }\n",
       "\n",
       "    .dataframe thead th {\n",
       "        text-align: right;\n",
       "    }\n",
       "</style>\n",
       "<table border=\"1\" class=\"dataframe\">\n",
       "  <thead>\n",
       "    <tr style=\"text-align: right;\">\n",
       "      <th></th>\n",
       "      <th>ID</th>\n",
       "      <th>Title</th>\n",
       "      <th>Description</th>\n",
       "    </tr>\n",
       "  </thead>\n",
       "  <tbody>\n",
       "    <tr>\n",
       "      <th>54195</th>\n",
       "      <td>54196</td>\n",
       "      <td>\"Tales of Light &amp; Dark\" (2013)</td>\n",
       "      <td>Covering multiple genres, Tales of Light &amp; Dar...</td>\n",
       "    </tr>\n",
       "    <tr>\n",
       "      <th>54196</th>\n",
       "      <td>54197</td>\n",
       "      <td>Der letzte Mohikaner (1965)</td>\n",
       "      <td>As Alice and Cora Munro attempt to find their ...</td>\n",
       "    </tr>\n",
       "    <tr>\n",
       "      <th>54197</th>\n",
       "      <td>54198</td>\n",
       "      <td>Oliver Twink (2007)</td>\n",
       "      <td>A movie 169 years in the making. Oliver Twist,...</td>\n",
       "    </tr>\n",
       "    <tr>\n",
       "      <th>54198</th>\n",
       "      <td>54199</td>\n",
       "      <td>Slipstream (1973)</td>\n",
       "      <td>Popular, but mysterious rock D.J Mike Mallard ...</td>\n",
       "    </tr>\n",
       "    <tr>\n",
       "      <th>54199</th>\n",
       "      <td>54200</td>\n",
       "      <td>Curitiba Zero Grau (2010)</td>\n",
       "      <td>Curitiba is a city in movement, with rhythms a...</td>\n",
       "    </tr>\n",
       "  </tbody>\n",
       "</table>\n",
       "</div>"
      ],
      "text/plain": [
       "          ID                           Title  \\\n",
       "54195  54196  \"Tales of Light & Dark\" (2013)   \n",
       "54196  54197     Der letzte Mohikaner (1965)   \n",
       "54197  54198             Oliver Twink (2007)   \n",
       "54198  54199               Slipstream (1973)   \n",
       "54199  54200       Curitiba Zero Grau (2010)   \n",
       "\n",
       "                                             Description  \n",
       "54195  Covering multiple genres, Tales of Light & Dar...  \n",
       "54196  As Alice and Cora Munro attempt to find their ...  \n",
       "54197  A movie 169 years in the making. Oliver Twist,...  \n",
       "54198  Popular, but mysterious rock D.J Mike Mallard ...  \n",
       "54199  Curitiba is a city in movement, with rhythms a...  "
      ]
     },
     "execution_count": 19,
     "metadata": {},
     "output_type": "execute_result"
    }
   ],
   "source": [
    "movie_test=pd.read_csv(\"C:/Users/jothe/OneDrive/Desktop/Project/CODESOFT/genre-classification-dataset-imdb/Genre Classification Dataset/test_data.csv\")\n",
    "movie_test.tail(5)"
   ]
  },
  {
   "cell_type": "code",
   "execution_count": 22,
   "id": "b20a40a3",
   "metadata": {},
   "outputs": [],
   "source": [
    "y_pred_test= log.predict(test_inp)\n",
    "movie_test[\"Predicted\"]=y_pred_test"
   ]
  },
  {
   "cell_type": "code",
   "execution_count": 20,
   "id": "61043b3a",
   "metadata": {},
   "outputs": [
    {
     "data": {
      "text/html": [
       "<div>\n",
       "<style scoped>\n",
       "    .dataframe tbody tr th:only-of-type {\n",
       "        vertical-align: middle;\n",
       "    }\n",
       "\n",
       "    .dataframe tbody tr th {\n",
       "        vertical-align: top;\n",
       "    }\n",
       "\n",
       "    .dataframe thead th {\n",
       "        text-align: right;\n",
       "    }\n",
       "</style>\n",
       "<table border=\"1\" class=\"dataframe\">\n",
       "  <thead>\n",
       "    <tr style=\"text-align: right;\">\n",
       "      <th></th>\n",
       "      <th>ID</th>\n",
       "      <th>Title</th>\n",
       "      <th>Genre</th>\n",
       "      <th>Description</th>\n",
       "    </tr>\n",
       "  </thead>\n",
       "  <tbody>\n",
       "    <tr>\n",
       "      <th>54195</th>\n",
       "      <td>54196</td>\n",
       "      <td>\"Tales of Light &amp; Dark\" (2013)</td>\n",
       "      <td>horror</td>\n",
       "      <td>Covering multiple genres, Tales of Light &amp; Dar...</td>\n",
       "    </tr>\n",
       "    <tr>\n",
       "      <th>54196</th>\n",
       "      <td>54197</td>\n",
       "      <td>Der letzte Mohikaner (1965)</td>\n",
       "      <td>western</td>\n",
       "      <td>As Alice and Cora Munro attempt to find their ...</td>\n",
       "    </tr>\n",
       "    <tr>\n",
       "      <th>54197</th>\n",
       "      <td>54198</td>\n",
       "      <td>Oliver Twink (2007)</td>\n",
       "      <td>adult</td>\n",
       "      <td>A movie 169 years in the making. Oliver Twist,...</td>\n",
       "    </tr>\n",
       "    <tr>\n",
       "      <th>54198</th>\n",
       "      <td>54199</td>\n",
       "      <td>Slipstream (1973)</td>\n",
       "      <td>drama</td>\n",
       "      <td>Popular, but mysterious rock D.J Mike Mallard ...</td>\n",
       "    </tr>\n",
       "    <tr>\n",
       "      <th>54199</th>\n",
       "      <td>54200</td>\n",
       "      <td>Curitiba Zero Grau (2010)</td>\n",
       "      <td>drama</td>\n",
       "      <td>Curitiba is a city in movement, with rhythms a...</td>\n",
       "    </tr>\n",
       "  </tbody>\n",
       "</table>\n",
       "</div>"
      ],
      "text/plain": [
       "          ID                           Title    Genre  \\\n",
       "54195  54196  \"Tales of Light & Dark\" (2013)   horror   \n",
       "54196  54197     Der letzte Mohikaner (1965)  western   \n",
       "54197  54198             Oliver Twink (2007)    adult   \n",
       "54198  54199               Slipstream (1973)    drama   \n",
       "54199  54200       Curitiba Zero Grau (2010)    drama   \n",
       "\n",
       "                                             Description  \n",
       "54195  Covering multiple genres, Tales of Light & Dar...  \n",
       "54196  As Alice and Cora Munro attempt to find their ...  \n",
       "54197  A movie 169 years in the making. Oliver Twist,...  \n",
       "54198  Popular, but mysterious rock D.J Mike Mallard ...  \n",
       "54199  Curitiba is a city in movement, with rhythms a...  "
      ]
     },
     "execution_count": 20,
     "metadata": {},
     "output_type": "execute_result"
    }
   ],
   "source": [
    "movie_out=pd.read_csv(\"C:/Users/jothe/OneDrive/Desktop/Project/CODESOFT/genre-classification-dataset-imdb/Genre Classification Dataset/test_data_solution.csv\")\n",
    "movie_out.tail(5)"
   ]
  },
  {
   "cell_type": "code",
   "execution_count": 25,
   "id": "64c0e4d8",
   "metadata": {},
   "outputs": [
    {
     "name": "stdout",
     "output_type": "stream",
     "text": [
      "Correctly predicted\n"
     ]
    }
   ],
   "source": [
    "if(movie_out.at[54198,\"Genre\"]==movie_test.at[54198,\"Predicted\"]):\n",
    "    print(\"Correctly predicted\")\n",
    "else:\n",
    "    print(\"Not predicted correctly.\")"
   ]
  }
 ],
 "metadata": {
  "kernelspec": {
   "display_name": "Python 3 (ipykernel)",
   "language": "python",
   "name": "python3"
  },
  "language_info": {
   "codemirror_mode": {
    "name": "ipython",
    "version": 3
   },
   "file_extension": ".py",
   "mimetype": "text/x-python",
   "name": "python",
   "nbconvert_exporter": "python",
   "pygments_lexer": "ipython3",
   "version": "3.9.13"
  }
 },
 "nbformat": 4,
 "nbformat_minor": 5
}
